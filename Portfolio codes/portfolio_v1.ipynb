{
 "cells": [
  {
   "cell_type": "code",
   "execution_count": 7,
   "metadata": {},
   "outputs": [],
   "source": [
    "#Setting up the connection"
   ]
  },
  {
   "cell_type": "code",
   "execution_count": 200,
   "metadata": {},
   "outputs": [],
   "source": [
    "from breeze_connect import BreezeConnect\n",
    "import pandas as pd\n",
    "import numpy as np\n",
    "import seaborn as sns\n",
    "import matplotlib.pyplot as plt"
   ]
  },
  {
   "cell_type": "code",
   "execution_count": 45,
   "metadata": {},
   "outputs": [],
   "source": [
    "breeze = BreezeConnect(api_key = 'ge528J31807C23m1138209727YT28K7*')"
   ]
  },
  {
   "cell_type": "code",
   "execution_count": 46,
   "metadata": {},
   "outputs": [
    {
     "name": "stdout",
     "output_type": "stream",
     "text": [
      "https://api.icicidirect.com/apiuser/login?api_key=ge528J31807C23m1138209727YT28K7%2A\n"
     ]
    }
   ],
   "source": [
    "import urllib\n",
    "print(\"https://api.icicidirect.com/apiuser/login?api_key=\"+urllib.parse.quote_plus(\"ge528J31807C23m1138209727YT28K7*\"))\n"
   ]
  },
  {
   "cell_type": "code",
   "execution_count": 47,
   "metadata": {},
   "outputs": [],
   "source": [
    "breeze.generate_session(api_secret=\"7$`4002714a8v&50&014906179j^4881\",\n",
    "                        session_token=\"11233063\")"
   ]
  },
  {
   "cell_type": "code",
   "execution_count": 213,
   "metadata": {},
   "outputs": [
    {
     "data": {
      "text/plain": [
       "{'Success': None, 'Status': 500, 'Error': 'Invalid User Details'}"
      ]
     },
     "execution_count": 213,
     "metadata": {},
     "output_type": "execute_result"
    }
   ],
   "source": []
  },
  {
   "cell_type": "code",
   "execution_count": 180,
   "metadata": {},
   "outputs": [],
   "source": [
    "dict = breeze.get_historical_data_v2(interval=\"1day\",\n",
    "                            from_date= \"2023-04-01T07:00:00.000Z\",\n",
    "                            to_date= \"2023-04-25T07:00:00.000Z\",\n",
    "                            stock_code=\"NIFTY\",\n",
    "                            exchange_code=\"NSE\")"
   ]
  },
  {
   "cell_type": "code",
   "execution_count": 181,
   "metadata": {},
   "outputs": [
    {
     "data": {
      "text/plain": [
       "{'Error': None,\n",
       " 'Status': 200,\n",
       " 'Success': [{'close': 17399.7,\n",
       "   'datetime': '2023-04-03 00:00:00',\n",
       "   'exchange_code': 'NSE',\n",
       "   'high': 17427.95,\n",
       "   'low': 17312.9,\n",
       "   'open': 17427.95,\n",
       "   'stock_code': 'NIFTY',\n",
       "   'volume': 0},\n",
       "  {'close': 17561.0,\n",
       "   'datetime': '2023-04-05 00:00:00',\n",
       "   'exchange_code': 'NSE',\n",
       "   'high': 17570.0,\n",
       "   'low': 17412.15,\n",
       "   'open': 17422.3,\n",
       "   'stock_code': 'NIFTY',\n",
       "   'volume': 0},\n",
       "  {'close': 17602.0,\n",
       "   'datetime': '2023-04-06 00:00:00',\n",
       "   'exchange_code': 'NSE',\n",
       "   'high': 17637.7,\n",
       "   'low': 17503.6,\n",
       "   'open': 17533.85,\n",
       "   'stock_code': 'NIFTY',\n",
       "   'volume': 0},\n",
       "  {'close': 17613.05,\n",
       "   'datetime': '2023-04-10 00:00:00',\n",
       "   'exchange_code': 'NSE',\n",
       "   'high': 17693.3,\n",
       "   'low': 17598.25,\n",
       "   'open': 17634.9,\n",
       "   'stock_code': 'NIFTY',\n",
       "   'volume': 0},\n",
       "  {'close': 17722.25,\n",
       "   'datetime': '2023-04-11 00:00:00',\n",
       "   'exchange_code': 'NSE',\n",
       "   'high': 17748.6,\n",
       "   'low': 17655.3,\n",
       "   'open': 17704.8,\n",
       "   'stock_code': 'NIFTY',\n",
       "   'volume': 0},\n",
       "  {'close': 17817.9,\n",
       "   'datetime': '2023-04-12 00:00:00',\n",
       "   'exchange_code': 'NSE',\n",
       "   'high': 17824.3,\n",
       "   'low': 17717.8,\n",
       "   'open': 17759.55,\n",
       "   'stock_code': 'NIFTY',\n",
       "   'volume': 0},\n",
       "  {'close': 17828.15,\n",
       "   'datetime': '2023-04-13 00:00:00',\n",
       "   'exchange_code': 'NSE',\n",
       "   'high': 17841.5,\n",
       "   'low': 17729.7,\n",
       "   'open': 17807.3,\n",
       "   'stock_code': 'NIFTY',\n",
       "   'volume': 0},\n",
       "  {'close': 17704.1,\n",
       "   'datetime': '2023-04-17 00:00:00',\n",
       "   'exchange_code': 'NSE',\n",
       "   'high': 17863.0,\n",
       "   'low': 17574.35,\n",
       "   'open': 17863.0,\n",
       "   'stock_code': 'NIFTY',\n",
       "   'volume': 0},\n",
       "  {'close': 17661.55,\n",
       "   'datetime': '2023-04-18 00:00:00',\n",
       "   'exchange_code': 'NSE',\n",
       "   'high': 17766.6,\n",
       "   'low': 17610.75,\n",
       "   'open': 17766.6,\n",
       "   'stock_code': 'NIFTY',\n",
       "   'volume': 0},\n",
       "  {'close': 17610.2,\n",
       "   'datetime': '2023-04-19 00:00:00',\n",
       "   'exchange_code': 'NSE',\n",
       "   'high': 17665.6,\n",
       "   'low': 17580.0,\n",
       "   'open': 17653.35,\n",
       "   'stock_code': 'NIFTY',\n",
       "   'volume': 0},\n",
       "  {'close': 17623.9,\n",
       "   'datetime': '2023-04-20 00:00:00',\n",
       "   'exchange_code': 'NSE',\n",
       "   'high': 17683.75,\n",
       "   'low': 17584.5,\n",
       "   'open': 17638.6,\n",
       "   'stock_code': 'NIFTY',\n",
       "   'volume': 0},\n",
       "  {'close': 17618.9,\n",
       "   'datetime': '2023-04-21 00:00:00',\n",
       "   'exchange_code': 'NSE',\n",
       "   'high': 17662.5,\n",
       "   'low': 17554.1,\n",
       "   'open': 17639.75,\n",
       "   'stock_code': 'NIFTY',\n",
       "   'volume': 0},\n",
       "  {'close': 17748.0,\n",
       "   'datetime': '2023-04-24 00:00:00',\n",
       "   'exchange_code': 'NSE',\n",
       "   'high': 17754.25,\n",
       "   'low': 17612.7,\n",
       "   'open': 17707.55,\n",
       "   'stock_code': 'NIFTY',\n",
       "   'volume': 0},\n",
       "  {'close': 17761.95,\n",
       "   'datetime': '2023-04-25 00:00:00',\n",
       "   'exchange_code': 'NSE',\n",
       "   'high': 17807.25,\n",
       "   'low': 17717.3,\n",
       "   'open': 17761.55,\n",
       "   'stock_code': 'NIFTY',\n",
       "   'volume': 0}]}"
      ]
     },
     "execution_count": 181,
     "metadata": {},
     "output_type": "execute_result"
    }
   ],
   "source": [
    "dict"
   ]
  },
  {
   "cell_type": "code",
   "execution_count": 112,
   "metadata": {},
   "outputs": [
    {
     "data": {
      "text/plain": [
       "'2023-04-10'"
      ]
     },
     "execution_count": 112,
     "metadata": {},
     "output_type": "execute_result"
    }
   ],
   "source": [
    "dict['Success'][3]['datetime'][:10]"
   ]
  },
  {
   "cell_type": "code",
   "execution_count": 50,
   "metadata": {},
   "outputs": [],
   "source": [
    "d=[{'date': x['datetime'][:10], 'close': x['close']} for x in dict['Success']]"
   ]
  },
  {
   "cell_type": "code",
   "execution_count": 66,
   "metadata": {},
   "outputs": [
    {
     "data": {
      "text/html": [
       "<div>\n",
       "<style scoped>\n",
       "    .dataframe tbody tr th:only-of-type {\n",
       "        vertical-align: middle;\n",
       "    }\n",
       "\n",
       "    .dataframe tbody tr th {\n",
       "        vertical-align: top;\n",
       "    }\n",
       "\n",
       "    .dataframe thead th {\n",
       "        text-align: right;\n",
       "    }\n",
       "</style>\n",
       "<table border=\"1\" class=\"dataframe\">\n",
       "  <thead>\n",
       "    <tr style=\"text-align: right;\">\n",
       "      <th></th>\n",
       "      <th>Close</th>\n",
       "    </tr>\n",
       "    <tr>\n",
       "      <th>Date</th>\n",
       "      <th></th>\n",
       "    </tr>\n",
       "  </thead>\n",
       "  <tbody>\n",
       "    <tr>\n",
       "      <th>2013-04-01</th>\n",
       "      <td>204.8</td>\n",
       "    </tr>\n",
       "    <tr>\n",
       "      <th>2013-04-02</th>\n",
       "      <td>204.77</td>\n",
       "    </tr>\n",
       "    <tr>\n",
       "      <th>2013-04-03</th>\n",
       "      <td>205.07</td>\n",
       "    </tr>\n",
       "    <tr>\n",
       "      <th>2013-04-04</th>\n",
       "      <td>199.7</td>\n",
       "    </tr>\n",
       "    <tr>\n",
       "      <th>2013-04-05</th>\n",
       "      <td>194.2</td>\n",
       "    </tr>\n",
       "    <tr>\n",
       "      <th>...</th>\n",
       "      <td>...</td>\n",
       "    </tr>\n",
       "    <tr>\n",
       "      <th>2023-03-24</th>\n",
       "      <td>378.7</td>\n",
       "    </tr>\n",
       "    <tr>\n",
       "      <th>2023-03-27</th>\n",
       "      <td>380.2</td>\n",
       "    </tr>\n",
       "    <tr>\n",
       "      <th>2023-03-28</th>\n",
       "      <td>379.75</td>\n",
       "    </tr>\n",
       "    <tr>\n",
       "      <th>2023-03-29</th>\n",
       "      <td>382.75</td>\n",
       "    </tr>\n",
       "    <tr>\n",
       "      <th>2023-03-31</th>\n",
       "      <td>383.5</td>\n",
       "    </tr>\n",
       "  </tbody>\n",
       "</table>\n",
       "<p>2460 rows × 1 columns</p>\n",
       "</div>"
      ],
      "text/plain": [
       "             Close\n",
       "Date              \n",
       "2013-04-01   204.8\n",
       "2013-04-02  204.77\n",
       "2013-04-03  205.07\n",
       "2013-04-04   199.7\n",
       "2013-04-05   194.2\n",
       "...            ...\n",
       "2023-03-24   378.7\n",
       "2023-03-27   380.2\n",
       "2023-03-28  379.75\n",
       "2023-03-29  382.75\n",
       "2023-03-31   383.5\n",
       "\n",
       "[2460 rows x 1 columns]"
      ]
     },
     "execution_count": 66,
     "metadata": {},
     "output_type": "execute_result"
    }
   ],
   "source": [
    "pd.DataFrame([[x['datetime'][:10], x['close']] for x in dict['Success']], columns = ['Date', 'Close']).set_index('Date')"
   ]
  },
  {
   "cell_type": "code",
   "execution_count": 198,
   "metadata": {},
   "outputs": [],
   "source": [
    "#Constants"
   ]
  },
  {
   "cell_type": "code",
   "execution_count": 199,
   "metadata": {},
   "outputs": [],
   "source": [
    "RF = 3\n",
    "TIMEDELTA = 365"
   ]
  },
  {
   "cell_type": "code",
   "execution_count": 8,
   "metadata": {},
   "outputs": [],
   "source": [
    "#Portfolio"
   ]
  },
  {
   "cell_type": "code",
   "execution_count": 193,
   "metadata": {},
   "outputs": [],
   "source": [
    "\n",
    "def get_cov_mat(stocks, from_date=\"2013-04-01T07:00:00.000Z\", to_date=\"2023-03-31T07:00:00.000Z\"):\n",
    "    data_dict = {}    \n",
    "    for stock in stocks:\n",
    "        dict = breeze.get_historical_data(interval=\"1day\", from_date=from_date, to_date=to_date, stock_code=stock, exchange_code=\"NSE\", product_type=\"cash\")\n",
    "        #data_dict[stock]=[{'date': x['datetime'][:10], 'close': x['close']} for x in dict['Success']]\n",
    "        data_dict[stock] = pd.DataFrame([[x['datetime'][:10], float(x['close'])] for x in dict['Success']], columns = ['Date', stock]).set_index('Date')\n",
    "    \n",
    "    data = []\n",
    "    for key in data_dict:\n",
    "        data.append(data_dict[key])\n",
    "\n",
    "    price_data = pd.concat(data, axis=1, join='inner')\n",
    "    \n",
    "    index_data = price_data[['NIFTY']]\n",
    "    price_data = price_data.drop(['NIFTY'], axis=1)\n",
    "\n",
    "    log_ret = np.log(price_data/price_data.shift(1))\n",
    "\n",
    "    cov_mat = log_ret.cov()\n",
    "    cov_mat = cov_mat*252  #assuming 252 trading days in a year\n",
    "    ret = (log_ret.mean()+1)**252-1\n",
    "\n",
    "    return price_data, index_data, cov_mat, ret"
   ]
  },
  {
   "cell_type": "code",
   "execution_count": 202,
   "metadata": {},
   "outputs": [],
   "source": [
    "def amt_to_wt(amounts):\n",
    "    total=sum(amounts)\n",
    "    return np.array([a/total for a in amounts])"
   ]
  },
  {
   "cell_type": "code",
   "execution_count": 169,
   "metadata": {},
   "outputs": [],
   "source": [
    "tickermatch = pd.read_csv('NSEScripMaster.csv', index_col='ExchangeCode').to_dict()['ShortName']"
   ]
  },
  {
   "cell_type": "code",
   "execution_count": 208,
   "metadata": {},
   "outputs": [],
   "source": [
    "price_data, index_data, cov_mat, ret = get_cov_mat([tickermatch['HDFCBANK'], tickermatch['ITC'], 'NIFTY'])"
   ]
  },
  {
   "cell_type": "code",
   "execution_count": 196,
   "metadata": {},
   "outputs": [
    {
     "name": "stdout",
     "output_type": "stream",
     "text": [
      "            HDFBAN     ITC\n",
      "Date                      \n",
      "2013-04-01  311.93  204.80\n",
      "2013-04-02  314.95  204.77\n",
      "2013-04-03  311.83  205.07\n",
      "2013-04-04  308.08  199.70\n",
      "2013-04-05  310.48  194.20\n",
      "              NIFTY\n",
      "Date               \n",
      "2013-04-01  5704.40\n",
      "2013-04-02  5748.10\n",
      "2013-04-03  5672.90\n",
      "2013-04-04  5574.75\n",
      "2013-04-05  5553.25\n",
      "          HDFBAN       ITC\n",
      "HDFBAN  0.056462  0.019466\n",
      "ITC     0.019466  0.068517\n",
      "HDFBAN    0.183145\n",
      "ITC       0.066417\n",
      "dtype: float64\n"
     ]
    }
   ],
   "source": [
    "print(price_data.head())\n",
    "print(index_data.head())\n",
    "print(cov_mat)\n",
    "print(ret)"
   ]
  },
  {
   "cell_type": "code",
   "execution_count": 201,
   "metadata": {},
   "outputs": [],
   "source": [
    "class Portfolio(object):\n",
    "    def __init__(self, secs, weights):\n",
    "\n",
    "        self.secs = secs\n",
    "        self.weights = weights\n",
    "\n",
    "        self.pdata, self.idata, cov_mat, returns  = get_cov_mat(self.secs)\n",
    "\n",
    "        self.ret = round(np.dot(returns, self.weights)*100, 2)\n",
    "        self.std = round(np.sqrt(np.dot(self.weights.T, np.dot(cov_mat, self.weights.T)))*100, 2)\n",
    "        self.sharpe = round((self.ret-RF)/self.std,2)\n",
    "\n",
    "    def __str__(self):\n",
    "        return f\"Returns: {self.ret}% Std: {self.std}%\"\n",
    "\n",
    "    def plot_performance(self):\n",
    "        index = 100\n",
    "        ind_val=[index]\n",
    "        day = self.weights*100\n",
    "        port_val = []\n",
    "        port_val.append(day.sum())\n",
    "\n",
    "        piret = self.pdata/self.pdata.shift(1)\n",
    "        inret = self.idata/self.idata.shift(1)\n",
    "\n",
    "        for i in range(1, len(piret)):\n",
    "            day = np.array(day*piret.iloc[i])\n",
    "            port_val.append(day.sum())\n",
    "            index = index*inret.iloc[i][0]\n",
    "            ind_val.append(index)\n",
    "        \n",
    "        self.pdata['port_val'] = port_val\n",
    "        self.pdata['ind_val'] = ind_val\n",
    "        \n",
    "        index_return = ((np.log(self.idata/self.idata.shift(1)).mean()+1)**252-1)[0]\n",
    "        std_return_diff = np.std(self.pdata['port_val']/self.pdata['port_val'].shift(1)-self.pdata['ind_val']/self.pdata['ind_val'].shift(1))\n",
    "        self.inf = (self.ret/100-index_return)/std_return_diff\n",
    "\n",
    "        plt.plot(self.pdata['port_val'], label=\"Portfolio\")\n",
    "        plt.plot(self.pdata['ind_val'], label=\"Nifty\")\n",
    "        sns.lineplot(self.pdata['port_val'])\n",
    "        #plt.savefig('media\\plot.png')\n"
   ]
  },
  {
   "cell_type": "code",
   "execution_count": 204,
   "metadata": {},
   "outputs": [],
   "source": [
    "def compute_portfolio(ticks, amounts):\n",
    "    if len(ticks) == 0:\n",
    "        return 0, 0\n",
    "    secs = [tickermatch[tick] for tick in ticks]\n",
    "    port = Portfolio(secs, amt_to_wt(amounts))\n",
    "    port.plot_performance()\n",
    "    \n"
   ]
  },
  {
   "cell_type": "code",
   "execution_count": 207,
   "metadata": {},
   "outputs": [
    {
     "data": {
      "image/png": "[encoded data removed]",
      "text/plain": [
       "<Figure size 640x480 with 1 Axes>"
      ]
     },
     "metadata": {},
     "output_type": "display_data"
    }
   ],
   "source": [
    "compute_portfolio(['ITC', 'HDFCBANK', 'NIFTY 50'], [200, 100])"
   ]
  },
  {
   "cell_type": "code",
   "execution_count": null,
   "metadata": {},
   "outputs": [],
   "source": []
  }
 ],
 "metadata": {
  "kernelspec": {
   "display_name": "Python 3",
   "language": "python",
   "name": "python3"
  },
  "language_info": {
   "codemirror_mode": {
    "name": "ipython",
    "version": 3
   },
   "file_extension": ".py",
   "mimetype": "text/x-python",
   "name": "python",
   "nbconvert_exporter": "python",
   "pygments_lexer": "ipython3",
   "version": "3.10.8"
  },
  "orig_nbformat": 4
 },
 "nbformat": 4,
 "nbformat_minor": 2
}
