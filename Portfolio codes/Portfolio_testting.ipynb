{
 "cells": [
  {
   "cell_type": "code",
   "execution_count": 3,
   "metadata": {},
   "outputs": [],
   "source": [
    "import pandas as pd\n",
    "import numpy as np\n",
    "from yahoo_fin import stock_info\n",
    "from yahoo_fin.stock_info import get_data"
   ]
  },
  {
   "cell_type": "code",
   "execution_count": 4,
   "metadata": {},
   "outputs": [],
   "source": [
    "def get_cov_mat(stocks):\n",
    "\n",
    "    data_dict = dict()\n",
    "    for stock in stocks:\n",
    "        yahoo_ticker = stock+'.NS'\n",
    "        d1 = get_data(yahoo_ticker, start_date = '07/04/2022')\n",
    "        d1 = d1.drop(columns = ['open', 'low', 'high', 'volume', 'adjclose', 'ticker'])\n",
    "        data_dict[stock] = d1\n",
    "\n",
    "    data = []\n",
    "    for key in data_dict:\n",
    "        data_dict[key] = data_dict[key].rename(columns={'close': key})\n",
    "        data.append(data_dict[key])\n",
    "\n",
    "    price_data = pd.concat(data, axis=1, join='inner')\n",
    "\n",
    "    log_ret = np.log(price_data/price_data.shift(1))\n",
    "\n",
    "    cov_mat = log_ret.cov()\n",
    "    cov_mat = cov_mat*252  #assuming 252 trading days in a year\n",
    "\n",
    "    ret = (log_ret.mean()+1)**252-1\n",
    "\n",
    "    return ret, cov_mat"
   ]
  },
  {
   "cell_type": "code",
   "execution_count": 5,
   "metadata": {},
   "outputs": [],
   "source": [
    "stocks = ['ITC', 'HDFCBANK']\n",
    "returns, cov_mat = get_cov_mat(stocks = ['ITC', 'HDFCBANK'])"
   ]
  },
  {
   "cell_type": "code",
   "execution_count": 6,
   "metadata": {},
   "outputs": [
    {
     "data": {
      "text/plain": [
       "ITC         0.460742\n",
       "HDFCBANK    0.318443\n",
       "dtype: float64"
      ]
     },
     "execution_count": 6,
     "metadata": {},
     "output_type": "execute_result"
    }
   ],
   "source": [
    "returns"
   ]
  },
  {
   "cell_type": "code",
   "execution_count": 7,
   "metadata": {},
   "outputs": [
    {
     "data": {
      "text/plain": [
       "0.4607422439524158"
      ]
     },
     "execution_count": 7,
     "metadata": {},
     "output_type": "execute_result"
    }
   ],
   "source": [
    "wts = np.array([1,0])\n",
    "np.dot(returns, wts)"
   ]
  },
  {
   "cell_type": "code",
   "execution_count": 8,
   "metadata": {},
   "outputs": [
    {
     "data": {
      "text/html": [
       "<div>\n",
       "<style scoped>\n",
       "    .dataframe tbody tr th:only-of-type {\n",
       "        vertical-align: middle;\n",
       "    }\n",
       "\n",
       "    .dataframe tbody tr th {\n",
       "        vertical-align: top;\n",
       "    }\n",
       "\n",
       "    .dataframe thead th {\n",
       "        text-align: right;\n",
       "    }\n",
       "</style>\n",
       "<table border=\"1\" class=\"dataframe\">\n",
       "  <thead>\n",
       "    <tr style=\"text-align: right;\">\n",
       "      <th></th>\n",
       "      <th>ITC</th>\n",
       "      <th>HDFCBANK</th>\n",
       "    </tr>\n",
       "  </thead>\n",
       "  <tbody>\n",
       "    <tr>\n",
       "      <th>ITC</th>\n",
       "      <td>0.033201</td>\n",
       "      <td>0.00897</td>\n",
       "    </tr>\n",
       "    <tr>\n",
       "      <th>HDFCBANK</th>\n",
       "      <td>0.008970</td>\n",
       "      <td>0.03612</td>\n",
       "    </tr>\n",
       "  </tbody>\n",
       "</table>\n",
       "</div>"
      ],
      "text/plain": [
       "               ITC  HDFCBANK\n",
       "ITC       0.033201   0.00897\n",
       "HDFCBANK  0.008970   0.03612"
      ]
     },
     "execution_count": 8,
     "metadata": {},
     "output_type": "execute_result"
    }
   ],
   "source": [
    "cov_mat"
   ]
  },
  {
   "cell_type": "code",
   "execution_count": 9,
   "metadata": {},
   "outputs": [],
   "source": [
    "class Portfolio(object):\n",
    "    def __init__(self, userid, secs, weights):\n",
    "\n",
    "        if(weights.sum() != 1):\n",
    "            raise ValueError('Sum of weights must be 1')\n",
    "\n",
    "        self.userid = userid\n",
    "        self.secs = secs\n",
    "        self.weights = weights\n",
    "\n",
    "        returns, cov_mat  = get_cov_mat(self.secs)\n",
    "\n",
    "        self.ret = np.dot(returns, self.weights)*100\n",
    "        self.std = np.sqrt(np.dot(self.weights.T, np.dot(cov_mat, self.weights.T)))*100\n",
    "\n",
    "    def __str__(self):\n",
    "        return f\"Returns: {self.ret}% Std: {self.std}%\""
   ]
  },
  {
   "cell_type": "code",
   "execution_count": 10,
   "metadata": {},
   "outputs": [],
   "source": [
    "secs = ['ITC', 'HDFCBANK', 'ICICIBANK']\n",
    "weights = np.array([0.3, 0.4, 0.3])\n",
    "p1 = Portfolio(1, secs, weights)"
   ]
  },
  {
   "cell_type": "code",
   "execution_count": 11,
   "metadata": {},
   "outputs": [
    {
     "name": "stdout",
     "output_type": "stream",
     "text": [
      "Returns: 35.50777490747175% Std: 14.278993091969403%\n"
     ]
    }
   ],
   "source": [
    "print(p1)"
   ]
  },
  {
   "cell_type": "code",
   "execution_count": 12,
   "metadata": {},
   "outputs": [],
   "source": [
    "#Creating a simulation to check portflio returns against several weight combinations\n",
    "\n",
    "wlist1 = np.random.rand(100, 1)"
   ]
  },
  {
   "cell_type": "code",
   "execution_count": 13,
   "metadata": {},
   "outputs": [],
   "source": [
    "wlist2 = 1-wlist1"
   ]
  },
  {
   "cell_type": "code",
   "execution_count": 14,
   "metadata": {},
   "outputs": [],
   "source": [
    "weights_list = []\n",
    "for w1, w2 in zip(wlist1, wlist2):\n",
    "    weights_list.append(np.array([w1, w2]))"
   ]
  },
  {
   "cell_type": "code",
   "execution_count": 15,
   "metadata": {},
   "outputs": [
    {
     "data": {
      "text/plain": [
       "(2,)"
      ]
     },
     "execution_count": 15,
     "metadata": {},
     "output_type": "execute_result"
    }
   ],
   "source": [
    "weights_list[0].reshape(2,).shape"
   ]
  },
  {
   "cell_type": "code",
   "execution_count": 16,
   "metadata": {},
   "outputs": [
    {
     "data": {
      "text/plain": [
       "(2,)"
      ]
     },
     "execution_count": 16,
     "metadata": {},
     "output_type": "execute_result"
    }
   ],
   "source": [
    "np.array([1,2]).shape"
   ]
  },
  {
   "cell_type": "code",
   "execution_count": 17,
   "metadata": {},
   "outputs": [
    {
     "name": "stdout",
     "output_type": "stream",
     "text": [
      "1\n",
      "2\n",
      "3\n",
      "4\n",
      "5\n",
      "6\n",
      "7\n",
      "8\n",
      "9\n",
      "10\n",
      "11\n",
      "12\n",
      "13\n",
      "14\n",
      "15\n",
      "16\n",
      "17\n",
      "18\n",
      "19\n",
      "20\n",
      "21\n",
      "22\n",
      "23\n",
      "24\n",
      "25\n",
      "26\n",
      "27\n",
      "28\n",
      "29\n",
      "30\n",
      "31\n",
      "32\n",
      "33\n",
      "34\n",
      "35\n",
      "36\n",
      "37\n",
      "38\n",
      "39\n",
      "40\n",
      "41\n",
      "42\n",
      "43\n",
      "44\n",
      "45\n",
      "46\n",
      "47\n",
      "48\n",
      "49\n",
      "50\n",
      "51\n",
      "52\n",
      "53\n",
      "54\n",
      "55\n",
      "56\n",
      "57\n",
      "58\n",
      "59\n",
      "60\n",
      "61\n",
      "62\n",
      "63\n",
      "64\n",
      "65\n",
      "66\n",
      "67\n",
      "68\n",
      "69\n",
      "70\n",
      "71\n",
      "72\n",
      "73\n",
      "74\n",
      "75\n",
      "76\n",
      "77\n",
      "78\n",
      "79\n",
      "80\n",
      "81\n",
      "82\n",
      "83\n",
      "84\n",
      "85\n",
      "86\n",
      "87\n",
      "88\n",
      "89\n",
      "90\n",
      "91\n",
      "92\n",
      "93\n",
      "94\n",
      "95\n",
      "96\n",
      "97\n",
      "98\n",
      "99\n",
      "100\n"
     ]
    }
   ],
   "source": [
    "secs = ['ITC', 'HDFCBANK']\n",
    "returns = []\n",
    "risk = []\n",
    "i = 1\n",
    "for weights in weights_list:\n",
    "    p1 = Portfolio(1, secs, weights.reshape(2,))\n",
    "    returns.append(p1.ret)\n",
    "    risk.append(p1.std)\n",
    "    print(i)\n",
    "    i=i+1"
   ]
  },
  {
   "cell_type": "code",
   "execution_count": 20,
   "metadata": {},
   "outputs": [],
   "source": [
    "import matplotlib.pyplot as plt"
   ]
  },
  {
   "cell_type": "code",
   "execution_count": 21,
   "metadata": {},
   "outputs": [
    {
     "data": {
      "image/png": "[encoded data removed]",
      "text/plain": [
       "<Figure size 640x480 with 1 Axes>"
      ]
     },
     "metadata": {},
     "output_type": "display_data"
    }
   ],
   "source": [
    "plt.scatter(risk, returns)\n",
    "plt.xlabel('Portfolio standard deviation')\n",
    "plt.ylabel('Portfolio returns')\n",
    "plt.show()"
   ]
  },
  {
   "cell_type": "code",
   "execution_count": null,
   "metadata": {},
   "outputs": [],
   "source": [
    "newsapi_key = 'c32984abd4cd46cca5231ecb278e7d42'"
   ]
  },
  {
   "cell_type": "code",
   "execution_count": null,
   "metadata": {},
   "outputs": [],
   "source": []
  }
 ],
 "metadata": {
  "kernelspec": {
   "display_name": "Python 3.10.8 64-bit",
   "language": "python",
   "name": "python3"
  },
  "language_info": {
   "codemirror_mode": {
    "name": "ipython",
    "version": 3
   },
   "file_extension": ".py",
   "mimetype": "text/x-python",
   "name": "python",
   "nbconvert_exporter": "python",
   "pygments_lexer": "ipython3",
   "version": "3.10.8"
  },
  "orig_nbformat": 4,
  "vscode": {
   "interpreter": {
    "hash": "e7c06a3c0defcf05852ca34926315d0eb2a514f9242ca0dd50708e6cf665aa8f"
   }
  }
 },
 "nbformat": 4,
 "nbformat_minor": 2
}
